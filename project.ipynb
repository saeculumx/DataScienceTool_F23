{
 "cells": [
  {
   "cell_type": "code",
   "execution_count": 2,
   "metadata": {
    "collapsed": true
   },
   "outputs": [],
   "source": [
    "import pandas as pd\n"
   ]
  },
  {
   "cell_type": "code",
   "execution_count": 14,
   "outputs": [
    {
     "name": "stdout",
     "output_type": "stream",
     "text": [
      "DataFrame loaded\n"
     ]
    }
   ],
   "source": [
    "filepath_player = \"data/players.csv\"\n",
    "filepath_match = \"data/results.csv\"\n",
    "filepath_picks = \"data/picks.csv\"\n",
    "filepath_eco = \"data/economy.csv\"\n",
    "\n",
    "df_player = pd.read_csv(filepath_player)\n",
    "df_match = pd.read_csv(filepath_match)\n",
    "df_picks = pd.read_csv(filepath_picks)\n",
    "df_eco = pd.read_csv(filepath_eco, dtype='unicode')\n",
    "\n",
    "print(\"DataFrame loaded\")"
   ],
   "metadata": {
    "collapsed": false,
    "pycharm": {
     "name": "#%%\n"
    }
   }
  },
  {
   "cell_type": "code",
   "execution_count": 14,
   "outputs": [],
   "source": [],
   "metadata": {
    "collapsed": false,
    "pycharm": {
     "name": "#%%\n"
    }
   }
  }
 ],
 "metadata": {
  "kernelspec": {
   "display_name": "Python 3",
   "language": "python",
   "name": "python3"
  },
  "language_info": {
   "codemirror_mode": {
    "name": "ipython",
    "version": 2
   },
   "file_extension": ".py",
   "mimetype": "text/x-python",
   "name": "python",
   "nbconvert_exporter": "python",
   "pygments_lexer": "ipython2",
   "version": "2.7.6"
  }
 },
 "nbformat": 4,
 "nbformat_minor": 0
}